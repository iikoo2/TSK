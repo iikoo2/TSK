{
  "nbformat": 4,
  "nbformat_minor": 0,
  "metadata": {
    "colab": {
      "provenance": [],
      "authorship_tag": "ABX9TyP69WDA+H2oUnBwHsfE1nTH",
      "include_colab_link": true
    },
    "kernelspec": {
      "name": "python3",
      "display_name": "Python 3"
    },
    "language_info": {
      "name": "python"
    }
  },
  "cells": [
    {
      "cell_type": "markdown",
      "metadata": {
        "id": "view-in-github",
        "colab_type": "text"
      },
      "source": [
        "<a href=\"https://colab.research.google.com/github/iikoo2/TSK/blob/main/1_TSK_Pythonin_aloitus.ipynb\" target=\"_parent\"><img src=\"https://colab.research.google.com/assets/colab-badge.svg\" alt=\"Open In Colab\"/></a>"
      ]
    },
    {
      "cell_type": "markdown",
      "source": [
        "# Pythonia Colaboratoryllä\n",
        "\n",
        "Colaboratory on mielenkiintoinen Googlen työkalu, jolla voi muun muassa kirjoitella tällaisisa dokumentteja ja laittaa väliin itsenäisiä Python-koodilohkoja. Esimerkiksi tämän alapuolella on koodisolu, jossa on kenties maailman ärsyttävin koodin aloitus, josta saamme kiittää herraa nimeltään Brian Kerninghan: Rivin päässä on kolmio, josta painamalla voit ajaa tuon koodin:"
      ],
      "metadata": {
        "id": "C9lpkcaCK3j1"
      }
    },
    {
      "cell_type": "code",
      "source": [
        "print(\"Hello, world!\")"
      ],
      "metadata": {
        "colab": {
          "base_uri": "https://localhost:8080/"
        },
        "id": "tyRrBt1cLMEK",
        "outputId": "dbda77ad-0517-463d-fdf4-0b8bb035e053"
      },
      "execution_count": null,
      "outputs": [
        {
          "output_type": "stream",
          "name": "stdout",
          "text": [
            "Hello, world!\n"
          ]
        }
      ]
    },
    {
      "cell_type": "markdown",
      "source": [
        "Kerrotaan vasta näin suorituksen jälkeen, jos tuo tuloste oli jotenkin typerä, niin ole hyvä ja kirjoita siihen jotakin fiksumpaa: se on ihan mahdollista, vaikkei sinulla ole alkuperäiseen tiedostoon muokkausoikeuksia ollenkaan.\n",
        "\n",
        "Osoite, jossa on sitten kaikki Pythonista, on [https://www.python.org/](https://www.python.org/).\n",
        "\n",
        "# Pythonin ominaisuuksia\n",
        "\n",
        "Työtilassa on mainittu materiaalilinkki sisältää asiaa näistä perusominaisuuksista tarkemmin, muista tutustua siihenkin, mutta pari huomionarvoista seikkaa:\n",
        "\n",
        "## 1. Rivin loppu - ei mitään puolipisteitä\n",
        "\n",
        "Rivin loppuun ei kirjoiteta puolipisteitä eikä mitään muutakaan. Rivinvaihto lopettaa komennon. (jos tarkkoja ollaan, niin unix-tyyppinen rivinvaihto, eli \\\\n)\n",
        "\n",
        "## 2."
      ],
      "metadata": {
        "id": "d-BLaeO7Jo6o"
      }
    }
  ]
}